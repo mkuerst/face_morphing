{
 "cells": [
  {
   "cell_type": "code",
   "execution_count": 1,
   "id": "59538813",
   "metadata": {},
   "outputs": [],
   "source": [
    "import time\n",
    "import tensorflow as tf\n",
    "from tensorflow.keras import *\n",
    "import numpy as np\n",
    "import os\n",
    "import trimesh\n",
    "\n",
    "import igl\n",
    "from meshplot import plot, subplot, interact\n",
    "import meshplot as mp"
   ]
  },
  {
   "cell_type": "code",
   "execution_count": 2,
   "id": "344101b6",
   "metadata": {},
   "outputs": [],
   "source": [
    "n_meshes = 0\n",
    "model = None\n",
    "path_ = \"../data\""
   ]
  },
  {
   "cell_type": "code",
   "execution_count": 3,
   "id": "6445aec1",
   "metadata": {},
   "outputs": [],
   "source": [
    "def load_data(shape=(2319, 3), do_scale=True, subtract_mean=False):\n",
    "    global n_meshes, path_\n",
    "    face_a = None\n",
    "    data_set = []\n",
    "    scale = 1.0\n",
    "    n_meshes = 0\n",
    "    for f in os.listdir(path_):\n",
    "        mesh = trimesh.load(os.path.join(path_, f), process=False)\n",
    "        v = np.array(mesh.vertices, np.float32)\n",
    "        face_a = np.array(mesh.faces, np.int32)\n",
    "        if shape == (2400, 3):\n",
    "            v = np.vstack([v, np.zeros((81, 3), np.float32)])\n",
    "\n",
    "        data_set.append(v)\n",
    "        n_meshes += 1\n",
    "\n",
    "    data_set = np.array(data_set)\n",
    "\n",
    "    if do_scale:\n",
    "        scale = np.max(data_set)\n",
    "        data_set = data_set / scale\n",
    "\n",
    "    mean_a = np.mean(data_set, axis=(0))\n",
    "\n",
    "    if subtract_mean:\n",
    "        data_set -= mean_a\n",
    "\n",
    "    return data_set, face_a, mean_a, scale"
   ]
  },
  {
   "cell_type": "code",
   "execution_count": null,
   "id": "d1acf2f3",
   "metadata": {},
   "outputs": [],
   "source": []
  },
  {
   "cell_type": "code",
   "execution_count": 4,
   "id": "dae15738",
   "metadata": {},
   "outputs": [
    {
     "name": "stdout",
     "output_type": "stream",
     "text": [
      "WARNING:tensorflow:No training configuration found in save file, so the model was *not* compiled. Compile it manually.\n",
      "WARNING:tensorflow:No training configuration found in save file, so the model was *not* compiled. Compile it manually.\n"
     ]
    }
   ],
   "source": [
    "encoder = models.load_model(\"./enc_nn2_noscale_nomean\")\n",
    "decoder = models.load_model(\"./dec_nn2_noscale_nomean\")\n",
    "shape = (22779, 3)"
   ]
  },
  {
   "cell_type": "code",
   "execution_count": 5,
   "id": "7191dee1",
   "metadata": {},
   "outputs": [],
   "source": [
    "data_set, face_a, mean_a, scale = load_data(shape=shape, do_scale=False, subtract_mean=False)"
   ]
  },
  {
   "cell_type": "code",
   "execution_count": 6,
   "id": "94820c64",
   "metadata": {},
   "outputs": [
    {
     "data": {
      "application/vnd.jupyter.widget-view+json": {
       "model_id": "72c6ffd2809e4ddb93acd70406070ea6",
       "version_major": 2,
       "version_minor": 0
      },
      "text/plain": [
       "interactive(children=(IntSlider(value=54, description='m', max=109), Output()), _dom_classes=('widget-interact…"
      ]
     },
     "metadata": {},
     "output_type": "display_data"
    }
   ],
   "source": [
    "@mp.interact(m=(0, n_meshes - 1))\n",
    "def display_mesh(m):\n",
    "    global data_set, face_a\n",
    "    a = data_set[m] + mean_a\n",
    "    v = np.zeros_like(a)\n",
    "    v[:,0] = a[:, 0]\n",
    "    v[:,1] = a[:, 2]\n",
    "    v[:,2] = -a[:, 1]\n",
    "    f = face_a\n",
    "    p = plot(v, f, shading={\"bbox\": True})\n"
   ]
  },
  {
   "cell_type": "code",
   "execution_count": 8,
   "id": "b9ce0c52",
   "metadata": {},
   "outputs": [
    {
     "data": {
      "application/vnd.jupyter.widget-view+json": {
       "model_id": "42cdf9c88b254f5484ce338d09977f33",
       "version_major": 2,
       "version_minor": 0
      },
      "text/plain": [
       "interactive(children=(IntSlider(value=54, description='m', max=109), Output()), _dom_classes=('widget-interact…"
      ]
     },
     "metadata": {},
     "output_type": "display_data"
    }
   ],
   "source": [
    "@mp.interact(m=(0, n_meshes - 1))\n",
    "def reconstruct_mesh(m):\n",
    "    global data_set, face_a, encoder, decoder\n",
    "    a = data_set[m]\n",
    "    #print(a)\n",
    "    \n",
    "    o = np.zeros_like(a[:22779])\n",
    "    o[:22779,0] = a[:22779, 0]\n",
    "    o[:22779,1] = a[:22779, 2]\n",
    "    o[:22779,2] = -a[:22779, 1]\n",
    "    \n",
    "    a = np.expand_dims(a, axis=0)\n",
    "    e = encoder(a)\n",
    "    a = decoder(e)\n",
    "    b = np.squeeze(a)\n",
    "    a = b\n",
    "    v = np.zeros_like(a[:22779])\n",
    "    #print(a)\n",
    "    \n",
    "    v[:22779,0] = a[:22779, 0]\n",
    "    v[:22779,1] = a[:22779, 2]\n",
    "    v[:22779,2] = -a[:22779, 1]\n",
    "    f = face_a\n",
    "    p = plot(v, f, shading={\"bbox\": True})\n",
    "    p = plot(o, f, shading={\"bbox\": True})\n",
    "    "
   ]
  },
  {
   "cell_type": "code",
   "execution_count": 10,
   "id": "defd9998",
   "metadata": {},
   "outputs": [
    {
     "data": {
      "application/vnd.jupyter.widget-view+json": {
       "model_id": "cd860f6b91614246900064de3c671b0e",
       "version_major": 2,
       "version_minor": 0
      },
      "text/plain": [
       "interactive(children=(FloatSlider(value=0.0, description='s0', max=10.0, min=-10.0), FloatSlider(value=0.0, de…"
      ]
     },
     "metadata": {},
     "output_type": "display_data"
    }
   ],
   "source": [
    "@mp.interact(s0=(-10.0, 10.0), s1=(-10.0, 10.0), \n",
    "             s2=(-10.0, 10.0), s3=(-10.0, 10.0), \n",
    "             s4=(-10.0, 10.0), s5=(-10.0, 10.0),\n",
    "             s6=(-10.0, 10.0), s7=(-10.0, 10.0)\n",
    "            )\n",
    "def reconstruct_mesh(s0, s1, s2, s3, s4, s5, s6, s7):\n",
    "    global encoder, decoder\n",
    "    q = np.array([s0, s1, s2, s3, s4, s5, s6, s7])\n",
    "    q = np.expand_dims(q, axis=0)\n",
    "    \n",
    "    a = decoder(q)\n",
    "    a = np.squeeze(a)\n",
    "    v = np.zeros_like(a[:22779])\n",
    "    #print(a)\n",
    "    \n",
    "    v[:22779,0] = a[:22779, 0]\n",
    "    v[:22779,1] = a[:22779, 2]\n",
    "    v[:22779,2] = -a[:22779, 1]\n",
    "    f = face_a\n",
    "    p = plot(v, f, shading={\"bbox\": True})\n",
    "    "
   ]
  },
  {
   "cell_type": "code",
   "execution_count": null,
   "id": "0871066f",
   "metadata": {},
   "outputs": [],
   "source": []
  },
  {
   "cell_type": "code",
   "execution_count": null,
   "id": "e3a3fdd4",
   "metadata": {},
   "outputs": [],
   "source": []
  }
 ],
 "metadata": {
  "kernelspec": {
   "display_name": "Python 3",
   "language": "python",
   "name": "python3"
  },
  "language_info": {
   "codemirror_mode": {
    "name": "ipython",
    "version": 3
   },
   "file_extension": ".py",
   "mimetype": "text/x-python",
   "name": "python",
   "nbconvert_exporter": "python",
   "pygments_lexer": "ipython3",
   "version": "3.8.5"
  }
 },
 "nbformat": 4,
 "nbformat_minor": 5
}
